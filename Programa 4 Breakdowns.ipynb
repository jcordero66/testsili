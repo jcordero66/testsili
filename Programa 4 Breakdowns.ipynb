{
    "cells": [
        {
            "metadata": {},
            "cell_type": "markdown",
            "source": "This notebook analyzes and visualizes breakdowns data"
        },
        {
            "metadata": {},
            "cell_type": "code",
            "source": "\nimport types\nimport pandas as pd\nfrom botocore.client import Config\nimport ibm_boto3\n\ndef __iter__(self): return 0\n\n# @hidden_cell\n# The following code accesses a file in your IBM Cloud Object Storage. It includes your credentials.\n# You might want to remove those credentials before you share the notebook.\nclient_7dfb9fb3da9448fcaaa0acac5507d514 = ibm_boto3.client(service_name='s3',\n    ibm_api_key_id='zCT3bn5DF2_nBo08tZYIzjsbi2uh58Qn1kFTblAXvtw0',\n    ibm_auth_endpoint=\"https://iam.cloud.ibm.com/oidc/token\",\n    config=Config(signature_version='oauth'),\n    endpoint_url='https://s3-api.us-geo.objectstorage.service.networklayer.com')\n\nbody = client_7dfb9fb3da9448fcaaa0acac5507d514.get_object(Bucket='ibmdatasciencetest-donotdelete-pr-ncsr0ffwkzl5cy',Key='3. Agosto-2020 .xlsx')['Body']\n# add missing __iter__ method, so pandas accepts body as file-like object\nif not hasattr(body, \"__iter__\"): body.__iter__ = types.MethodType( __iter__, body )\n\ndf_data_0 = pd.read_excel(body)\ndf_data_0.head()\n",
            "execution_count": 1,
            "outputs": [
                {
                    "output_type": "execute_result",
                    "execution_count": 1,
                    "data": {
                        "text/plain": "  Ticket  Cod_ZAIG Cod_AP                                           ZAIG  \\\n0   4716  A1010902    NaN                        San Jose, Pavas - Plaza   \n1   4716  B1010901    NaN                     Estacion Incofer Aya Pavas   \n2   4716  B1010904    NaN                  Estacion Incofer Pavas Centro   \n3   4716  B1010905    NaN                  Estacion Incofer Pecosa Pavas   \n4   4716  B1010906    NaN  Estacion Incofer Zona Industrial Jack's Pavas   \n\n                        Provincia            Comienzo                  Fin  \\\n0  San Jose                       2019-04-09 08:45:10  2019-04-09 08:45:10   \n1  San Jose                       2019-04-09 08:45:10  2019-04-09 08:45:10   \n2  San Jose                       2019-04-09 08:45:10  2019-04-09 08:45:10   \n3  San Jose                       2019-04-09 08:45:10  2019-04-09 08:45:10   \n4  San Jose                       2019-04-09 08:45:10  2019-04-09 08:45:10   \n\n   Duraci\u00f3n  Tiempo_OFF        Categoria  \\\n0       0.0         0.0  Falla el\u00e9ctrica   \n1       0.0         0.0  Falla el\u00e9ctrica   \n2       0.0         0.0  Falla el\u00e9ctrica   \n3       0.0         0.0  Falla el\u00e9ctrica   \n4       0.0         0.0  Falla el\u00e9ctrica   \n\n                                               Causa  Region GAM  \\\n0  RESTABLECIMIENTO DEL FLUIDO EL\u00c9CTRICO EN LA ZO...       1  S\u00ed   \n1  RESTABLECIMIENTO DEL FLUIDO EL\u00c9CTRICO EN LA ZO...       1  S\u00ed   \n2  RESTABLECIMIENTO DEL FLUIDO EL\u00c9CTRICO EN LA ZO...       1  S\u00ed   \n3  RESTABLECIMIENTO DEL FLUIDO EL\u00c9CTRICO EN LA ZO...       1  S\u00ed   \n4  RESTABLECIMIENTO DEL FLUIDO EL\u00c9CTRICO EN LA ZO...       1  S\u00ed   \n\n   Horas_Solucionar  Monto  \n0               4.0    0.0  \n1               4.0    0.0  \n2               4.0    0.0  \n3               4.0    0.0  \n4               4.0    0.0  ",
                        "text/html": "<div>\n<style scoped>\n    .dataframe tbody tr th:only-of-type {\n        vertical-align: middle;\n    }\n\n    .dataframe tbody tr th {\n        vertical-align: top;\n    }\n\n    .dataframe thead th {\n        text-align: right;\n    }\n</style>\n<table border=\"1\" class=\"dataframe\">\n  <thead>\n    <tr style=\"text-align: right;\">\n      <th></th>\n      <th>Ticket</th>\n      <th>Cod_ZAIG</th>\n      <th>Cod_AP</th>\n      <th>ZAIG</th>\n      <th>Provincia</th>\n      <th>Comienzo</th>\n      <th>Fin</th>\n      <th>Duraci\u00f3n</th>\n      <th>Tiempo_OFF</th>\n      <th>Categoria</th>\n      <th>Causa</th>\n      <th>Region</th>\n      <th>GAM</th>\n      <th>Horas_Solucionar</th>\n      <th>Monto</th>\n    </tr>\n  </thead>\n  <tbody>\n    <tr>\n      <th>0</th>\n      <td>4716</td>\n      <td>A1010902</td>\n      <td>NaN</td>\n      <td>San Jose, Pavas - Plaza</td>\n      <td>San Jose</td>\n      <td>2019-04-09 08:45:10</td>\n      <td>2019-04-09 08:45:10</td>\n      <td>0.0</td>\n      <td>0.0</td>\n      <td>Falla el\u00e9ctrica</td>\n      <td>RESTABLECIMIENTO DEL FLUIDO EL\u00c9CTRICO EN LA ZO...</td>\n      <td>1</td>\n      <td>S\u00ed</td>\n      <td>4.0</td>\n      <td>0.0</td>\n    </tr>\n    <tr>\n      <th>1</th>\n      <td>4716</td>\n      <td>B1010901</td>\n      <td>NaN</td>\n      <td>Estacion Incofer Aya Pavas</td>\n      <td>San Jose</td>\n      <td>2019-04-09 08:45:10</td>\n      <td>2019-04-09 08:45:10</td>\n      <td>0.0</td>\n      <td>0.0</td>\n      <td>Falla el\u00e9ctrica</td>\n      <td>RESTABLECIMIENTO DEL FLUIDO EL\u00c9CTRICO EN LA ZO...</td>\n      <td>1</td>\n      <td>S\u00ed</td>\n      <td>4.0</td>\n      <td>0.0</td>\n    </tr>\n    <tr>\n      <th>2</th>\n      <td>4716</td>\n      <td>B1010904</td>\n      <td>NaN</td>\n      <td>Estacion Incofer Pavas Centro</td>\n      <td>San Jose</td>\n      <td>2019-04-09 08:45:10</td>\n      <td>2019-04-09 08:45:10</td>\n      <td>0.0</td>\n      <td>0.0</td>\n      <td>Falla el\u00e9ctrica</td>\n      <td>RESTABLECIMIENTO DEL FLUIDO EL\u00c9CTRICO EN LA ZO...</td>\n      <td>1</td>\n      <td>S\u00ed</td>\n      <td>4.0</td>\n      <td>0.0</td>\n    </tr>\n    <tr>\n      <th>3</th>\n      <td>4716</td>\n      <td>B1010905</td>\n      <td>NaN</td>\n      <td>Estacion Incofer Pecosa Pavas</td>\n      <td>San Jose</td>\n      <td>2019-04-09 08:45:10</td>\n      <td>2019-04-09 08:45:10</td>\n      <td>0.0</td>\n      <td>0.0</td>\n      <td>Falla el\u00e9ctrica</td>\n      <td>RESTABLECIMIENTO DEL FLUIDO EL\u00c9CTRICO EN LA ZO...</td>\n      <td>1</td>\n      <td>S\u00ed</td>\n      <td>4.0</td>\n      <td>0.0</td>\n    </tr>\n    <tr>\n      <th>4</th>\n      <td>4716</td>\n      <td>B1010906</td>\n      <td>NaN</td>\n      <td>Estacion Incofer Zona Industrial Jack's Pavas</td>\n      <td>San Jose</td>\n      <td>2019-04-09 08:45:10</td>\n      <td>2019-04-09 08:45:10</td>\n      <td>0.0</td>\n      <td>0.0</td>\n      <td>Falla el\u00e9ctrica</td>\n      <td>RESTABLECIMIENTO DEL FLUIDO EL\u00c9CTRICO EN LA ZO...</td>\n      <td>1</td>\n      <td>S\u00ed</td>\n      <td>4.0</td>\n      <td>0.0</td>\n    </tr>\n  </tbody>\n</table>\n</div>"
                    },
                    "metadata": {}
                }
            ]
        },
        {
            "metadata": {},
            "cell_type": "code",
            "source": "",
            "execution_count": null,
            "outputs": []
        }
    ],
    "metadata": {
        "kernelspec": {
            "name": "python3",
            "display_name": "Python 3.6",
            "language": "python"
        },
        "language_info": {
            "name": "python",
            "version": "3.6.9",
            "mimetype": "text/x-python",
            "codemirror_mode": {
                "name": "ipython",
                "version": 3
            },
            "pygments_lexer": "ipython3",
            "nbconvert_exporter": "python",
            "file_extension": ".py"
        }
    },
    "nbformat": 4,
    "nbformat_minor": 1
}